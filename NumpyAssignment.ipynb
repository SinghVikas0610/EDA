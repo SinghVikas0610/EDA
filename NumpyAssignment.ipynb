{
 "cells": [
  {
   "cell_type": "code",
   "execution_count": null,
   "id": "595a882b-d02c-4490-9f84-3bc47a7a98a7",
   "metadata": {},
   "outputs": [],
   "source": [
    "# 1. What is a Python library? Why do we use Python libraries?\n",
    "\n",
    "Python libraries are collections of pre-written code and functions that extend the capabilities of the Python programming language. \n",
    "They provide a wide range of tools and modules for various tasks, making it easier for developers to work on specific tasks without \n",
    "reinventing the wheel.\n",
    "\n",
    "With libraries, pre-written code can be reused instead of creating a new one for every project. \n",
    "Python libraries offer numerous functionalities such as deep learning and \n",
    "natural language processing that can optimize development processes while also making it easier for teams to collaborate on projects."
   ]
  },
  {
   "cell_type": "code",
   "execution_count": null,
   "id": "d0ee5518-e977-4dfb-9e1a-bf241ced2a1b",
   "metadata": {},
   "outputs": [],
   "source": [
    "# 2. What is the ^ifference between Numpy array and List\n",
    "\n",
    "The biggest difference is NumPy arrays use fewer resources than Python lists, \n",
    "which becomes important when storing a large amount of data. \n",
    "If you're working with thousands of elements, Python lists will be fine for most purposes.\n",
    "\n",
    "In summary, Python lists are more suitable for general-purpose tasks requiring flexibility, \n",
    "while NumPy arrays excel in numerical computation and tasks involving large datasets due to their efficiency and optimized operation\n"
   ]
  },
  {
   "cell_type": "code",
   "execution_count": 8,
   "id": "4ea134bd-91da-486c-bc00-c3fa392aa92a",
   "metadata": {},
   "outputs": [
    {
     "name": "stdout",
     "output_type": "stream",
     "text": [
      "(3, 4)\n",
      "12\n",
      "2\n"
     ]
    }
   ],
   "source": [
    "# 3. Find the shape, size and ^imension of the following array?\n",
    "import numpy as np\n",
    "x=np.array([[1, 2, 3, 4],[5, 6, 7, 8],[9, 10, 11, 12]])\n",
    "print(x.shape)\n",
    "print(x.size)\n",
    "print(x.ndim)\n"
   ]
  },
  {
   "cell_type": "code",
   "execution_count": 10,
   "id": "0224e0e2-ba5e-468e-a56d-888adbcc9ff3",
   "metadata": {},
   "outputs": [
    {
     "name": "stdout",
     "output_type": "stream",
     "text": [
      "[1 2 3 4]\n"
     ]
    }
   ],
   "source": [
    "# 4. Write python code to access the first row of the following array?\n",
    "\n",
    "x=np.array([[1, 2, 3, 4],[5, 6, 7, 8],[9, 10, 11, 12]])\n",
    "\n",
    "print(x[0])\n"
   ]
  },
  {
   "cell_type": "code",
   "execution_count": 13,
   "id": "eb4f205d-09a7-4c0c-8836-14af9f387fa0",
   "metadata": {},
   "outputs": [
    {
     "name": "stdout",
     "output_type": "stream",
     "text": [
      "12\n"
     ]
    }
   ],
   "source": [
    "# 5. How do you access the element at the third row and fourth column from the given numpy array?\n",
    "\n",
    "x=np.array([[1, 2, 3, 4],[5, 6, 7, 8],[9, 10, 11, 12]])\n",
    "\n",
    "print(x[2][3])"
   ]
  },
  {
   "cell_type": "code",
   "execution_count": 15,
   "id": "e5897587-4dca-4aab-aedf-a2fe802002ac",
   "metadata": {},
   "outputs": [
    {
     "data": {
      "text/plain": [
       "array([[ 1,  2,  3,  4],\n",
       "       [ 9, 10, 11, 12]])"
      ]
     },
     "execution_count": 15,
     "metadata": {},
     "output_type": "execute_result"
    }
   ],
   "source": [
    "# 6. Write code to extract all odd-indexed elements from the given numpy array?\n",
    "\n",
    "x=np.array([[1, 2, 3, 4],[5, 6, 7, 8],[9, 10, 11, 12]])\n",
    "\n",
    "x[0::2]\n",
    "\n"
   ]
  },
  {
   "cell_type": "code",
   "execution_count": 19,
   "id": "3f2c3d30-8126-46b1-97c7-841a9f56f909",
   "metadata": {},
   "outputs": [
    {
     "data": {
      "text/plain": [
       "array([[0.06559918, 0.56781559, 0.75785612],\n",
       "       [0.48577908, 0.75403674, 0.27330122],\n",
       "       [0.41608387, 0.63963239, 0.24644427]])"
      ]
     },
     "execution_count": 19,
     "metadata": {},
     "output_type": "execute_result"
    }
   ],
   "source": [
    "# 7. How can you generate a random 3x3 matrix with values between 0 and 1\n",
    "\n",
    "np.random.random((3,3))"
   ]
  },
  {
   "cell_type": "code",
   "execution_count": null,
   "id": "17295d70-ed09-4dac-9ba3-bfe59f770e9a",
   "metadata": {},
   "outputs": [],
   "source": [
    "# 8. Describe the ^ifference between np.random.rand and np.random.randn\n",
    "\n",
    "In summary, randn generates numbers from a normal distribution with a mean of 0 and a standard deviation of 1, \n",
    "while `rand` generates numbers from a uniform distribution between 0 and 1\n",
    "np.random.rand(2,4)\n",
    "np.random.randn(2,4)"
   ]
  },
  {
   "cell_type": "code",
   "execution_count": 22,
   "id": "184aae83-cb9b-4566-ba0c-30281af5c993",
   "metadata": {},
   "outputs": [],
   "source": [
    "# 9. Write code to increase the dimension of the following array?\n",
    "\n",
    "x=np.array([[1, 2, 3, 4],[5, 6, 7, 8],[9, 10, 11, 12]])\n",
    "x.resize(2,3,2)"
   ]
  },
  {
   "cell_type": "code",
   "execution_count": 25,
   "id": "50389cca-829f-4c43-9eb3-a773d1354b35",
   "metadata": {},
   "outputs": [
    {
     "data": {
      "text/plain": [
       "array([[ 1,  5,  9],\n",
       "       [ 2,  6, 10],\n",
       "       [ 3,  7, 11],\n",
       "       [ 4,  8, 12]])"
      ]
     },
     "execution_count": 25,
     "metadata": {},
     "output_type": "execute_result"
    }
   ],
   "source": [
    "# 10. How to transpose the following array in NumPy?\n",
    "\n",
    "x=np.array([[1, 2, 3, 4],[5, 6, 7, 8],[9, 10, 11, 12]])\n",
    "x.T"
   ]
  },
  {
   "cell_type": "code",
   "execution_count": 47,
   "id": "f7812901-c426-4bd6-b0d4-5026d216ab2b",
   "metadata": {},
   "outputs": [],
   "source": [
    "# 11. Consider the following matrix:\n",
    "\n",
    "A2=np.array([[1, 2, 3, 4] ,[5, 6, 7, 8],[9, 10, 11, 12]])\n",
    "B2=np.array([[1, 2, 3, 4], [5, 6, 7, 8],[9, 10, 11, 12]])\n"
   ]
  },
  {
   "cell_type": "code",
   "execution_count": 48,
   "id": "1901ca6b-0af4-4047-b265-a069f0e2d888",
   "metadata": {},
   "outputs": [
    {
     "data": {
      "text/plain": [
       "array([[0, 0, 0, 0],\n",
       "       [0, 0, 0, 0],\n",
       "       [0, 0, 0, 0]])"
      ]
     },
     "execution_count": 48,
     "metadata": {},
     "output_type": "execute_result"
    }
   ],
   "source": [
    "A2+B2\n",
    "A2*B2\n",
    "A2/B2\n",
    "A2-B2\n"
   ]
  },
  {
   "cell_type": "code",
   "execution_count": 51,
   "id": "872f356f-a08c-4513-a56a-8079b8698026",
   "metadata": {},
   "outputs": [
    {
     "data": {
      "text/plain": [
       "array([[ 16777216,  33554432,  50331648,  67108864],\n",
       "       [ 83886080, 100663296, 117440512, 134217728],\n",
       "       [150994944, 167772160, 184549376, 201326592]])"
      ]
     },
     "execution_count": 51,
     "metadata": {},
     "output_type": "execute_result"
    }
   ],
   "source": [
    "# 12.  Which function in Numpy can be use^ to swap the byte order of an array?\n",
    "\n",
    "x=np.array([[1, 2, 3, 4],[5, 6, 7, 8],[9, 10, 11, 12]])\n",
    "x.byteswap()"
   ]
  },
  {
   "cell_type": "code",
   "execution_count": null,
   "id": "7f9e1538-db02-4237-b336-1c32de6a76f8",
   "metadata": {},
   "outputs": [],
   "source": [
    "# 13.  What is the significance of the np.linalg.inv function?\n",
    "\n",
    "We use numpy. linalg. inv() function to calculate the inverse of a matrix.\n",
    "The inverse of a matrix is such that if it is multiplied by the original matrix, it results in identity matrix."
   ]
  },
  {
   "cell_type": "code",
   "execution_count": null,
   "id": "62221b19-83aa-4fd9-bee0-c8fa65c9bdde",
   "metadata": {},
   "outputs": [],
   "source": [
    "# 14. What does the np.reshape function do, and how is it used\n",
    "\n",
    "\n",
    "Change an Array's Shape Using NumPy reshape() NumPy's reshape() enables you to change the shape of an array into another compatible shape.\n",
    "\n",
    "arr.reshape(4,5)"
   ]
  },
  {
   "cell_type": "code",
   "execution_count": null,
   "id": "c5c7022f-72a2-460a-9cea-b3ddeccdd580",
   "metadata": {},
   "outputs": [],
   "source": [
    "# 15. What is broa^casting in Numpy?\n",
    "\n",
    "The term broadcasting refers to the ability of NumPy to treat arrays of different shapes during arithmetic operations.\n",
    "\n",
    "Arithmetic operations on arrays are usually done on corresponding elements.\n",
    "If two arrays are of exactly the same shape, then these operations are smoothly performed."
   ]
  }
 ],
 "metadata": {
  "kernelspec": {
   "display_name": "Python 3 (ipykernel)",
   "language": "python",
   "name": "python3"
  },
  "language_info": {
   "codemirror_mode": {
    "name": "ipython",
    "version": 3
   },
   "file_extension": ".py",
   "mimetype": "text/x-python",
   "name": "python",
   "nbconvert_exporter": "python",
   "pygments_lexer": "ipython3",
   "version": "3.11.5"
  }
 },
 "nbformat": 4,
 "nbformat_minor": 5
}
