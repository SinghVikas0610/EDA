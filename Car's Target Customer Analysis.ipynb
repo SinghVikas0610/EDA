{
 "cells": [
  {
   "cell_type": "code",
   "execution_count": 1,
   "id": "2349c014",
   "metadata": {},
   "outputs": [],
   "source": [
    "import numpy as np\n",
    "import pandas as pd\n",
    "import matplotlib.pyplot as plt\n",
    "import seaborn as sns"
   ]
  },
  {
   "cell_type": "code",
   "execution_count": null,
   "id": "65b72b4d",
   "metadata": {},
   "outputs": [],
   "source": [
    "# EDA"
   ]
  },
  {
   "cell_type": "code",
   "execution_count": 2,
   "id": "ae8a28c6",
   "metadata": {},
   "outputs": [],
   "source": [
    "sm=pd.read_csv(\"austo_automobile.csv\")"
   ]
  },
  {
   "cell_type": "code",
   "execution_count": 3,
   "id": "42d3dff7",
   "metadata": {},
   "outputs": [
    {
     "data": {
      "text/html": [
       "<div>\n",
       "<style scoped>\n",
       "    .dataframe tbody tr th:only-of-type {\n",
       "        vertical-align: middle;\n",
       "    }\n",
       "\n",
       "    .dataframe tbody tr th {\n",
       "        vertical-align: top;\n",
       "    }\n",
       "\n",
       "    .dataframe thead th {\n",
       "        text-align: right;\n",
       "    }\n",
       "</style>\n",
       "<table border=\"1\" class=\"dataframe\">\n",
       "  <thead>\n",
       "    <tr style=\"text-align: right;\">\n",
       "      <th></th>\n",
       "      <th>Age</th>\n",
       "      <th>Gender</th>\n",
       "      <th>Profession</th>\n",
       "      <th>Marital_status</th>\n",
       "      <th>Education</th>\n",
       "      <th>No_of_Dependents</th>\n",
       "      <th>Personal_loan</th>\n",
       "      <th>House_loan</th>\n",
       "      <th>Partner_working</th>\n",
       "      <th>Salary</th>\n",
       "      <th>Partner_salary</th>\n",
       "      <th>Total_salary</th>\n",
       "      <th>Price</th>\n",
       "      <th>Make</th>\n",
       "    </tr>\n",
       "  </thead>\n",
       "  <tbody>\n",
       "    <tr>\n",
       "      <th>0</th>\n",
       "      <td>53</td>\n",
       "      <td>Male</td>\n",
       "      <td>Business</td>\n",
       "      <td>Married</td>\n",
       "      <td>Post Graduate</td>\n",
       "      <td>4</td>\n",
       "      <td>No</td>\n",
       "      <td>No</td>\n",
       "      <td>Yes</td>\n",
       "      <td>99300</td>\n",
       "      <td>70700.0</td>\n",
       "      <td>170000</td>\n",
       "      <td>61000</td>\n",
       "      <td>SUV</td>\n",
       "    </tr>\n",
       "    <tr>\n",
       "      <th>1</th>\n",
       "      <td>53</td>\n",
       "      <td>Femal</td>\n",
       "      <td>Salaried</td>\n",
       "      <td>Married</td>\n",
       "      <td>Post Graduate</td>\n",
       "      <td>4</td>\n",
       "      <td>Yes</td>\n",
       "      <td>No</td>\n",
       "      <td>Yes</td>\n",
       "      <td>95500</td>\n",
       "      <td>70300.0</td>\n",
       "      <td>165800</td>\n",
       "      <td>61000</td>\n",
       "      <td>SUV</td>\n",
       "    </tr>\n",
       "    <tr>\n",
       "      <th>2</th>\n",
       "      <td>53</td>\n",
       "      <td>Female</td>\n",
       "      <td>Salaried</td>\n",
       "      <td>Married</td>\n",
       "      <td>Post Graduate</td>\n",
       "      <td>3</td>\n",
       "      <td>No</td>\n",
       "      <td>No</td>\n",
       "      <td>Yes</td>\n",
       "      <td>97300</td>\n",
       "      <td>60700.0</td>\n",
       "      <td>158000</td>\n",
       "      <td>57000</td>\n",
       "      <td>SUV</td>\n",
       "    </tr>\n",
       "    <tr>\n",
       "      <th>3</th>\n",
       "      <td>53</td>\n",
       "      <td>Female</td>\n",
       "      <td>Salaried</td>\n",
       "      <td>Married</td>\n",
       "      <td>Graduate</td>\n",
       "      <td>2</td>\n",
       "      <td>Yes</td>\n",
       "      <td>No</td>\n",
       "      <td>Yes</td>\n",
       "      <td>72500</td>\n",
       "      <td>70300.0</td>\n",
       "      <td>142800</td>\n",
       "      <td>61000</td>\n",
       "      <td>SUV</td>\n",
       "    </tr>\n",
       "    <tr>\n",
       "      <th>4</th>\n",
       "      <td>53</td>\n",
       "      <td>Male</td>\n",
       "      <td>Salaried</td>\n",
       "      <td>Married</td>\n",
       "      <td>Post Graduate</td>\n",
       "      <td>3</td>\n",
       "      <td>No</td>\n",
       "      <td>No</td>\n",
       "      <td>Yes</td>\n",
       "      <td>79700</td>\n",
       "      <td>60200.0</td>\n",
       "      <td>139900</td>\n",
       "      <td>57000</td>\n",
       "      <td>SUV</td>\n",
       "    </tr>\n",
       "    <tr>\n",
       "      <th>...</th>\n",
       "      <td>...</td>\n",
       "      <td>...</td>\n",
       "      <td>...</td>\n",
       "      <td>...</td>\n",
       "      <td>...</td>\n",
       "      <td>...</td>\n",
       "      <td>...</td>\n",
       "      <td>...</td>\n",
       "      <td>...</td>\n",
       "      <td>...</td>\n",
       "      <td>...</td>\n",
       "      <td>...</td>\n",
       "      <td>...</td>\n",
       "      <td>...</td>\n",
       "    </tr>\n",
       "    <tr>\n",
       "      <th>1576</th>\n",
       "      <td>22</td>\n",
       "      <td>Male</td>\n",
       "      <td>Salaried</td>\n",
       "      <td>Single</td>\n",
       "      <td>Graduate</td>\n",
       "      <td>2</td>\n",
       "      <td>No</td>\n",
       "      <td>Yes</td>\n",
       "      <td>No</td>\n",
       "      <td>33300</td>\n",
       "      <td>0.0</td>\n",
       "      <td>33300</td>\n",
       "      <td>27000</td>\n",
       "      <td>Hatchback</td>\n",
       "    </tr>\n",
       "    <tr>\n",
       "      <th>1577</th>\n",
       "      <td>22</td>\n",
       "      <td>Male</td>\n",
       "      <td>Business</td>\n",
       "      <td>Married</td>\n",
       "      <td>Graduate</td>\n",
       "      <td>4</td>\n",
       "      <td>No</td>\n",
       "      <td>No</td>\n",
       "      <td>No</td>\n",
       "      <td>32000</td>\n",
       "      <td>NaN</td>\n",
       "      <td>32000</td>\n",
       "      <td>31000</td>\n",
       "      <td>Hatchback</td>\n",
       "    </tr>\n",
       "    <tr>\n",
       "      <th>1578</th>\n",
       "      <td>22</td>\n",
       "      <td>Male</td>\n",
       "      <td>Business</td>\n",
       "      <td>Single</td>\n",
       "      <td>Graduate</td>\n",
       "      <td>2</td>\n",
       "      <td>No</td>\n",
       "      <td>Yes</td>\n",
       "      <td>No</td>\n",
       "      <td>32900</td>\n",
       "      <td>0.0</td>\n",
       "      <td>32900</td>\n",
       "      <td>30000</td>\n",
       "      <td>Hatchback</td>\n",
       "    </tr>\n",
       "    <tr>\n",
       "      <th>1579</th>\n",
       "      <td>22</td>\n",
       "      <td>Male</td>\n",
       "      <td>Business</td>\n",
       "      <td>Married</td>\n",
       "      <td>Graduate</td>\n",
       "      <td>3</td>\n",
       "      <td>Yes</td>\n",
       "      <td>Yes</td>\n",
       "      <td>No</td>\n",
       "      <td>32200</td>\n",
       "      <td>NaN</td>\n",
       "      <td>32200</td>\n",
       "      <td>24000</td>\n",
       "      <td>Hatchback</td>\n",
       "    </tr>\n",
       "    <tr>\n",
       "      <th>1580</th>\n",
       "      <td>22</td>\n",
       "      <td>Male</td>\n",
       "      <td>Salaried</td>\n",
       "      <td>Married</td>\n",
       "      <td>Graduate</td>\n",
       "      <td>4</td>\n",
       "      <td>No</td>\n",
       "      <td>No</td>\n",
       "      <td>No</td>\n",
       "      <td>31600</td>\n",
       "      <td>0.0</td>\n",
       "      <td>31600</td>\n",
       "      <td>31000</td>\n",
       "      <td>Hatchback</td>\n",
       "    </tr>\n",
       "  </tbody>\n",
       "</table>\n",
       "<p>1581 rows × 14 columns</p>\n",
       "</div>"
      ],
      "text/plain": [
       "      Age  Gender Profession Marital_status      Education  No_of_Dependents  \\\n",
       "0      53    Male   Business        Married  Post Graduate                 4   \n",
       "1      53   Femal   Salaried        Married  Post Graduate                 4   \n",
       "2      53  Female   Salaried        Married  Post Graduate                 3   \n",
       "3      53  Female   Salaried        Married       Graduate                 2   \n",
       "4      53    Male   Salaried        Married  Post Graduate                 3   \n",
       "...   ...     ...        ...            ...            ...               ...   \n",
       "1576   22    Male   Salaried         Single       Graduate                 2   \n",
       "1577   22    Male   Business        Married       Graduate                 4   \n",
       "1578   22    Male   Business         Single       Graduate                 2   \n",
       "1579   22    Male   Business        Married       Graduate                 3   \n",
       "1580   22    Male   Salaried        Married       Graduate                 4   \n",
       "\n",
       "     Personal_loan House_loan Partner_working  Salary  Partner_salary  \\\n",
       "0               No         No             Yes   99300         70700.0   \n",
       "1              Yes         No             Yes   95500         70300.0   \n",
       "2               No         No             Yes   97300         60700.0   \n",
       "3              Yes         No             Yes   72500         70300.0   \n",
       "4               No         No             Yes   79700         60200.0   \n",
       "...            ...        ...             ...     ...             ...   \n",
       "1576            No        Yes              No   33300             0.0   \n",
       "1577            No         No              No   32000             NaN   \n",
       "1578            No        Yes              No   32900             0.0   \n",
       "1579           Yes        Yes              No   32200             NaN   \n",
       "1580            No         No              No   31600             0.0   \n",
       "\n",
       "      Total_salary  Price       Make  \n",
       "0           170000  61000        SUV  \n",
       "1           165800  61000        SUV  \n",
       "2           158000  57000        SUV  \n",
       "3           142800  61000        SUV  \n",
       "4           139900  57000        SUV  \n",
       "...            ...    ...        ...  \n",
       "1576         33300  27000  Hatchback  \n",
       "1577         32000  31000  Hatchback  \n",
       "1578         32900  30000  Hatchback  \n",
       "1579         32200  24000  Hatchback  \n",
       "1580         31600  31000  Hatchback  \n",
       "\n",
       "[1581 rows x 14 columns]"
      ]
     },
     "execution_count": 3,
     "metadata": {},
     "output_type": "execute_result"
    }
   ],
   "source": [
    "sm"
   ]
  },
  {
   "cell_type": "code",
   "execution_count": 4,
   "id": "1e990c3b",
   "metadata": {},
   "outputs": [
    {
     "data": {
      "text/html": [
       "<div>\n",
       "<style scoped>\n",
       "    .dataframe tbody tr th:only-of-type {\n",
       "        vertical-align: middle;\n",
       "    }\n",
       "\n",
       "    .dataframe tbody tr th {\n",
       "        vertical-align: top;\n",
       "    }\n",
       "\n",
       "    .dataframe thead th {\n",
       "        text-align: right;\n",
       "    }\n",
       "</style>\n",
       "<table border=\"1\" class=\"dataframe\">\n",
       "  <thead>\n",
       "    <tr style=\"text-align: right;\">\n",
       "      <th></th>\n",
       "      <th>Age</th>\n",
       "      <th>Gender</th>\n",
       "      <th>Profession</th>\n",
       "      <th>Marital_status</th>\n",
       "      <th>Education</th>\n",
       "      <th>No_of_Dependents</th>\n",
       "      <th>Personal_loan</th>\n",
       "      <th>House_loan</th>\n",
       "      <th>Partner_working</th>\n",
       "      <th>Salary</th>\n",
       "      <th>Partner_salary</th>\n",
       "      <th>Total_salary</th>\n",
       "      <th>Price</th>\n",
       "      <th>Make</th>\n",
       "    </tr>\n",
       "  </thead>\n",
       "  <tbody>\n",
       "    <tr>\n",
       "      <th>0</th>\n",
       "      <td>53</td>\n",
       "      <td>Male</td>\n",
       "      <td>Business</td>\n",
       "      <td>Married</td>\n",
       "      <td>Post Graduate</td>\n",
       "      <td>4</td>\n",
       "      <td>No</td>\n",
       "      <td>No</td>\n",
       "      <td>Yes</td>\n",
       "      <td>99300</td>\n",
       "      <td>70700.0</td>\n",
       "      <td>170000</td>\n",
       "      <td>61000</td>\n",
       "      <td>SUV</td>\n",
       "    </tr>\n",
       "    <tr>\n",
       "      <th>1</th>\n",
       "      <td>53</td>\n",
       "      <td>Femal</td>\n",
       "      <td>Salaried</td>\n",
       "      <td>Married</td>\n",
       "      <td>Post Graduate</td>\n",
       "      <td>4</td>\n",
       "      <td>Yes</td>\n",
       "      <td>No</td>\n",
       "      <td>Yes</td>\n",
       "      <td>95500</td>\n",
       "      <td>70300.0</td>\n",
       "      <td>165800</td>\n",
       "      <td>61000</td>\n",
       "      <td>SUV</td>\n",
       "    </tr>\n",
       "    <tr>\n",
       "      <th>2</th>\n",
       "      <td>53</td>\n",
       "      <td>Female</td>\n",
       "      <td>Salaried</td>\n",
       "      <td>Married</td>\n",
       "      <td>Post Graduate</td>\n",
       "      <td>3</td>\n",
       "      <td>No</td>\n",
       "      <td>No</td>\n",
       "      <td>Yes</td>\n",
       "      <td>97300</td>\n",
       "      <td>60700.0</td>\n",
       "      <td>158000</td>\n",
       "      <td>57000</td>\n",
       "      <td>SUV</td>\n",
       "    </tr>\n",
       "    <tr>\n",
       "      <th>3</th>\n",
       "      <td>53</td>\n",
       "      <td>Female</td>\n",
       "      <td>Salaried</td>\n",
       "      <td>Married</td>\n",
       "      <td>Graduate</td>\n",
       "      <td>2</td>\n",
       "      <td>Yes</td>\n",
       "      <td>No</td>\n",
       "      <td>Yes</td>\n",
       "      <td>72500</td>\n",
       "      <td>70300.0</td>\n",
       "      <td>142800</td>\n",
       "      <td>61000</td>\n",
       "      <td>SUV</td>\n",
       "    </tr>\n",
       "    <tr>\n",
       "      <th>4</th>\n",
       "      <td>53</td>\n",
       "      <td>Male</td>\n",
       "      <td>Salaried</td>\n",
       "      <td>Married</td>\n",
       "      <td>Post Graduate</td>\n",
       "      <td>3</td>\n",
       "      <td>No</td>\n",
       "      <td>No</td>\n",
       "      <td>Yes</td>\n",
       "      <td>79700</td>\n",
       "      <td>60200.0</td>\n",
       "      <td>139900</td>\n",
       "      <td>57000</td>\n",
       "      <td>SUV</td>\n",
       "    </tr>\n",
       "  </tbody>\n",
       "</table>\n",
       "</div>"
      ],
      "text/plain": [
       "   Age  Gender Profession Marital_status      Education  No_of_Dependents  \\\n",
       "0   53    Male   Business        Married  Post Graduate                 4   \n",
       "1   53   Femal   Salaried        Married  Post Graduate                 4   \n",
       "2   53  Female   Salaried        Married  Post Graduate                 3   \n",
       "3   53  Female   Salaried        Married       Graduate                 2   \n",
       "4   53    Male   Salaried        Married  Post Graduate                 3   \n",
       "\n",
       "  Personal_loan House_loan Partner_working  Salary  Partner_salary  \\\n",
       "0            No         No             Yes   99300         70700.0   \n",
       "1           Yes         No             Yes   95500         70300.0   \n",
       "2            No         No             Yes   97300         60700.0   \n",
       "3           Yes         No             Yes   72500         70300.0   \n",
       "4            No         No             Yes   79700         60200.0   \n",
       "\n",
       "   Total_salary  Price Make  \n",
       "0        170000  61000  SUV  \n",
       "1        165800  61000  SUV  \n",
       "2        158000  57000  SUV  \n",
       "3        142800  61000  SUV  \n",
       "4        139900  57000  SUV  "
      ]
     },
     "execution_count": 4,
     "metadata": {},
     "output_type": "execute_result"
    }
   ],
   "source": [
    "sm.head()"
   ]
  },
  {
   "cell_type": "code",
   "execution_count": 5,
   "id": "864deec9",
   "metadata": {},
   "outputs": [
    {
     "data": {
      "text/plain": [
       "(1581, 14)"
      ]
     },
     "execution_count": 5,
     "metadata": {},
     "output_type": "execute_result"
    }
   ],
   "source": [
    "sm.shape"
   ]
  },
  {
   "cell_type": "code",
   "execution_count": 6,
   "id": "a8ceb95c",
   "metadata": {},
   "outputs": [
    {
     "data": {
      "text/plain": [
       "Index(['Age', 'Gender', 'Profession', 'Marital_status', 'Education',\n",
       "       'No_of_Dependents', 'Personal_loan', 'House_loan', 'Partner_working',\n",
       "       'Salary', 'Partner_salary', 'Total_salary', 'Price', 'Make'],\n",
       "      dtype='object')"
      ]
     },
     "execution_count": 6,
     "metadata": {},
     "output_type": "execute_result"
    }
   ],
   "source": [
    "sm.columns"
   ]
  },
  {
   "cell_type": "code",
   "execution_count": 7,
   "id": "69f782af",
   "metadata": {},
   "outputs": [
    {
     "name": "stdout",
     "output_type": "stream",
     "text": [
      "<class 'pandas.core.frame.DataFrame'>\n",
      "RangeIndex: 1581 entries, 0 to 1580\n",
      "Data columns (total 14 columns):\n",
      " #   Column            Non-Null Count  Dtype  \n",
      "---  ------            --------------  -----  \n",
      " 0   Age               1581 non-null   int64  \n",
      " 1   Gender            1528 non-null   object \n",
      " 2   Profession        1581 non-null   object \n",
      " 3   Marital_status    1581 non-null   object \n",
      " 4   Education         1581 non-null   object \n",
      " 5   No_of_Dependents  1581 non-null   int64  \n",
      " 6   Personal_loan     1581 non-null   object \n",
      " 7   House_loan        1581 non-null   object \n",
      " 8   Partner_working   1581 non-null   object \n",
      " 9   Salary            1581 non-null   int64  \n",
      " 10  Partner_salary    1475 non-null   float64\n",
      " 11  Total_salary      1581 non-null   int64  \n",
      " 12  Price             1581 non-null   int64  \n",
      " 13  Make              1581 non-null   object \n",
      "dtypes: float64(1), int64(5), object(8)\n",
      "memory usage: 173.1+ KB\n"
     ]
    }
   ],
   "source": [
    "sm.info()"
   ]
  },
  {
   "cell_type": "code",
   "execution_count": 8,
   "id": "52581b1e",
   "metadata": {},
   "outputs": [
    {
     "data": {
      "text/plain": [
       "Age                   0\n",
       "Gender               53\n",
       "Profession            0\n",
       "Marital_status        0\n",
       "Education             0\n",
       "No_of_Dependents      0\n",
       "Personal_loan         0\n",
       "House_loan            0\n",
       "Partner_working       0\n",
       "Salary                0\n",
       "Partner_salary      106\n",
       "Total_salary          0\n",
       "Price                 0\n",
       "Make                  0\n",
       "dtype: int64"
      ]
     },
     "execution_count": 8,
     "metadata": {},
     "output_type": "execute_result"
    }
   ],
   "source": [
    "sm.isnull().sum()"
   ]
  },
  {
   "cell_type": "code",
   "execution_count": 9,
   "id": "3152e11e",
   "metadata": {},
   "outputs": [
    {
     "data": {
      "text/plain": [
       "array(['Male', 'Femal', 'Female', nan, 'Femle'], dtype=object)"
      ]
     },
     "execution_count": 9,
     "metadata": {},
     "output_type": "execute_result"
    }
   ],
   "source": [
    "sm.Gender.unique()"
   ]
  },
  {
   "cell_type": "code",
   "execution_count": 4,
   "id": "1ebb6c32",
   "metadata": {},
   "outputs": [],
   "source": [
    "sm[\"Gender\"]=sm.Gender.replace([\"Femal\",\"Femle\"],[\"Female\",\"Female\"])"
   ]
  },
  {
   "cell_type": "code",
   "execution_count": 11,
   "id": "5e3babe4",
   "metadata": {},
   "outputs": [
    {
     "data": {
      "text/plain": [
       "array(['Male', 'Female', nan], dtype=object)"
      ]
     },
     "execution_count": 11,
     "metadata": {},
     "output_type": "execute_result"
    }
   ],
   "source": [
    "sm.Gender.unique()"
   ]
  },
  {
   "cell_type": "code",
   "execution_count": 12,
   "id": "a31d49f6",
   "metadata": {},
   "outputs": [
    {
     "data": {
      "text/plain": [
       "array(['SUV', 'Sedan', 'Hatchback'], dtype=object)"
      ]
     },
     "execution_count": 12,
     "metadata": {},
     "output_type": "execute_result"
    }
   ],
   "source": [
    "sm.Make.unique()"
   ]
  },
  {
   "cell_type": "code",
   "execution_count": 13,
   "id": "3dba39a6",
   "metadata": {},
   "outputs": [
    {
     "data": {
      "text/plain": [
       "array(['No', 'Yes'], dtype=object)"
      ]
     },
     "execution_count": 13,
     "metadata": {},
     "output_type": "execute_result"
    }
   ],
   "source": [
    "sm.Personal_loan.unique()"
   ]
  },
  {
   "cell_type": "code",
   "execution_count": 14,
   "id": "4067f9f9",
   "metadata": {},
   "outputs": [
    {
     "data": {
      "text/plain": [
       "Gender\n",
       "Female     329\n",
       "Male      1199\n",
       "Name: Gender, dtype: int64"
      ]
     },
     "execution_count": 14,
     "metadata": {},
     "output_type": "execute_result"
    }
   ],
   "source": [
    "sm.groupby(\"Gender\")[\"Gender\"].count()"
   ]
  },
  {
   "cell_type": "code",
   "execution_count": 5,
   "id": "36513529",
   "metadata": {},
   "outputs": [],
   "source": [
    "sm.Gender=sm.Gender.fillna(\"Male\")"
   ]
  },
  {
   "cell_type": "code",
   "execution_count": 16,
   "id": "5bed0225",
   "metadata": {},
   "outputs": [
    {
     "data": {
      "text/plain": [
       "array(['Male', 'Female'], dtype=object)"
      ]
     },
     "execution_count": 16,
     "metadata": {},
     "output_type": "execute_result"
    }
   ],
   "source": [
    "sm.Gender.unique()"
   ]
  },
  {
   "cell_type": "code",
   "execution_count": 17,
   "id": "e2826eef",
   "metadata": {},
   "outputs": [
    {
     "data": {
      "text/plain": [
       "array(['Business', 'Salaried'], dtype=object)"
      ]
     },
     "execution_count": 17,
     "metadata": {},
     "output_type": "execute_result"
    }
   ],
   "source": [
    "sm.Profession.unique()"
   ]
  },
  {
   "cell_type": "code",
   "execution_count": 18,
   "id": "04319cbf",
   "metadata": {},
   "outputs": [
    {
     "data": {
      "text/plain": [
       "array(['Post Graduate', 'Graduate'], dtype=object)"
      ]
     },
     "execution_count": 18,
     "metadata": {},
     "output_type": "execute_result"
    }
   ],
   "source": [
    "sm.Education.unique()"
   ]
  },
  {
   "cell_type": "code",
   "execution_count": 6,
   "id": "b6afc144",
   "metadata": {},
   "outputs": [
    {
     "data": {
      "text/plain": [
       "Age                   0\n",
       "Gender                0\n",
       "Profession            0\n",
       "Marital_status        0\n",
       "Education             0\n",
       "No_of_Dependents      0\n",
       "Personal_loan         0\n",
       "House_loan            0\n",
       "Partner_working       0\n",
       "Salary                0\n",
       "Partner_salary      106\n",
       "Total_salary          0\n",
       "Price                 0\n",
       "Make                  0\n",
       "dtype: int64"
      ]
     },
     "execution_count": 6,
     "metadata": {},
     "output_type": "execute_result"
    }
   ],
   "source": [
    "sm.isnull().sum()"
   ]
  },
  {
   "cell_type": "code",
   "execution_count": 7,
   "id": "892842ce",
   "metadata": {},
   "outputs": [],
   "source": [
    "sal=sm[ sm[\"Partner_salary\"].notnull()]   [[\"Salary\",\"Partner_salary\",\"Total_salary\"]]"
   ]
  },
  {
   "cell_type": "code",
   "execution_count": 8,
   "id": "b184d4b7",
   "metadata": {},
   "outputs": [
    {
     "data": {
      "text/html": [
       "<div>\n",
       "<style scoped>\n",
       "    .dataframe tbody tr th:only-of-type {\n",
       "        vertical-align: middle;\n",
       "    }\n",
       "\n",
       "    .dataframe tbody tr th {\n",
       "        vertical-align: top;\n",
       "    }\n",
       "\n",
       "    .dataframe thead th {\n",
       "        text-align: right;\n",
       "    }\n",
       "</style>\n",
       "<table border=\"1\" class=\"dataframe\">\n",
       "  <thead>\n",
       "    <tr style=\"text-align: right;\">\n",
       "      <th></th>\n",
       "      <th>Salary</th>\n",
       "      <th>Partner_salary</th>\n",
       "      <th>Total_salary</th>\n",
       "    </tr>\n",
       "  </thead>\n",
       "  <tbody>\n",
       "    <tr>\n",
       "      <th>0</th>\n",
       "      <td>99300</td>\n",
       "      <td>70700.0</td>\n",
       "      <td>170000</td>\n",
       "    </tr>\n",
       "    <tr>\n",
       "      <th>1</th>\n",
       "      <td>95500</td>\n",
       "      <td>70300.0</td>\n",
       "      <td>165800</td>\n",
       "    </tr>\n",
       "    <tr>\n",
       "      <th>2</th>\n",
       "      <td>97300</td>\n",
       "      <td>60700.0</td>\n",
       "      <td>158000</td>\n",
       "    </tr>\n",
       "    <tr>\n",
       "      <th>3</th>\n",
       "      <td>72500</td>\n",
       "      <td>70300.0</td>\n",
       "      <td>142800</td>\n",
       "    </tr>\n",
       "    <tr>\n",
       "      <th>4</th>\n",
       "      <td>79700</td>\n",
       "      <td>60200.0</td>\n",
       "      <td>139900</td>\n",
       "    </tr>\n",
       "    <tr>\n",
       "      <th>...</th>\n",
       "      <td>...</td>\n",
       "      <td>...</td>\n",
       "      <td>...</td>\n",
       "    </tr>\n",
       "    <tr>\n",
       "      <th>1574</th>\n",
       "      <td>34700</td>\n",
       "      <td>0.0</td>\n",
       "      <td>34700</td>\n",
       "    </tr>\n",
       "    <tr>\n",
       "      <th>1575</th>\n",
       "      <td>34000</td>\n",
       "      <td>0.0</td>\n",
       "      <td>34000</td>\n",
       "    </tr>\n",
       "    <tr>\n",
       "      <th>1576</th>\n",
       "      <td>33300</td>\n",
       "      <td>0.0</td>\n",
       "      <td>33300</td>\n",
       "    </tr>\n",
       "    <tr>\n",
       "      <th>1578</th>\n",
       "      <td>32900</td>\n",
       "      <td>0.0</td>\n",
       "      <td>32900</td>\n",
       "    </tr>\n",
       "    <tr>\n",
       "      <th>1580</th>\n",
       "      <td>31600</td>\n",
       "      <td>0.0</td>\n",
       "      <td>31600</td>\n",
       "    </tr>\n",
       "  </tbody>\n",
       "</table>\n",
       "<p>1475 rows × 3 columns</p>\n",
       "</div>"
      ],
      "text/plain": [
       "      Salary  Partner_salary  Total_salary\n",
       "0      99300         70700.0        170000\n",
       "1      95500         70300.0        165800\n",
       "2      97300         60700.0        158000\n",
       "3      72500         70300.0        142800\n",
       "4      79700         60200.0        139900\n",
       "...      ...             ...           ...\n",
       "1574   34700             0.0         34700\n",
       "1575   34000             0.0         34000\n",
       "1576   33300             0.0         33300\n",
       "1578   32900             0.0         32900\n",
       "1580   31600             0.0         31600\n",
       "\n",
       "[1475 rows x 3 columns]"
      ]
     },
     "execution_count": 8,
     "metadata": {},
     "output_type": "execute_result"
    }
   ],
   "source": [
    "sal"
   ]
  },
  {
   "cell_type": "code",
   "execution_count": 9,
   "id": "98caa4fc",
   "metadata": {},
   "outputs": [
    {
     "data": {
      "text/plain": [
       "array([ True])"
      ]
     },
     "execution_count": 9,
     "metadata": {},
     "output_type": "execute_result"
    }
   ],
   "source": [
    "(sal[\"Salary\"]+sal[\"Partner_salary\"]==sal[\"Total_salary\"]).unique()"
   ]
  },
  {
   "cell_type": "code",
   "execution_count": 10,
   "id": "1c939aa1",
   "metadata": {},
   "outputs": [],
   "source": [
    "sm.Partner_salary=sm.apply(lambda row: (row[\"Total_salary\"]-row[\"Salary\"]) if np.isnan(row[\"Partner_salary\"])\n",
    "                                                            else row[\"Partner_salary\"],axis=1)"
   ]
  },
  {
   "cell_type": "code",
   "execution_count": 11,
   "id": "24a3d640",
   "metadata": {},
   "outputs": [
    {
     "data": {
      "text/plain": [
       "Age                 0\n",
       "Gender              0\n",
       "Profession          0\n",
       "Marital_status      0\n",
       "Education           0\n",
       "No_of_Dependents    0\n",
       "Personal_loan       0\n",
       "House_loan          0\n",
       "Partner_working     0\n",
       "Salary              0\n",
       "Partner_salary      0\n",
       "Total_salary        0\n",
       "Price               0\n",
       "Make                0\n",
       "dtype: int64"
      ]
     },
     "execution_count": 11,
     "metadata": {},
     "output_type": "execute_result"
    }
   ],
   "source": [
    "sm.isnull().sum()"
   ]
  },
  {
   "cell_type": "code",
   "execution_count": 32,
   "id": "d9d1b297-1d23-4e90-82c1-1813da4dd6c7",
   "metadata": {},
   "outputs": [
    {
     "data": {
      "text/html": [
       "<div>\n",
       "<style scoped>\n",
       "    .dataframe tbody tr th:only-of-type {\n",
       "        vertical-align: middle;\n",
       "    }\n",
       "\n",
       "    .dataframe tbody tr th {\n",
       "        vertical-align: top;\n",
       "    }\n",
       "\n",
       "    .dataframe thead th {\n",
       "        text-align: right;\n",
       "    }\n",
       "</style>\n",
       "<table border=\"1\" class=\"dataframe\">\n",
       "  <thead>\n",
       "    <tr style=\"text-align: right;\">\n",
       "      <th>Profession</th>\n",
       "      <th>Business</th>\n",
       "      <th>Salaried</th>\n",
       "    </tr>\n",
       "    <tr>\n",
       "      <th>Gender</th>\n",
       "      <th></th>\n",
       "      <th></th>\n",
       "    </tr>\n",
       "  </thead>\n",
       "  <tbody>\n",
       "    <tr>\n",
       "      <th>Female</th>\n",
       "      <td>105</td>\n",
       "      <td>224</td>\n",
       "    </tr>\n",
       "    <tr>\n",
       "      <th>Male</th>\n",
       "      <td>580</td>\n",
       "      <td>672</td>\n",
       "    </tr>\n",
       "  </tbody>\n",
       "</table>\n",
       "</div>"
      ],
      "text/plain": [
       "Profession  Business  Salaried\n",
       "Gender                        \n",
       "Female           105       224\n",
       "Male             580       672"
      ]
     },
     "execution_count": 32,
     "metadata": {},
     "output_type": "execute_result"
    }
   ],
   "source": [
    "sm.pivot_table( \"Make\",index='Gender', columns='Profession', aggfunc={'Gender':'count'})"
   ]
  },
  {
   "cell_type": "code",
   "execution_count": null,
   "id": "6c7271e6-b2f9-47f8-83a7-a07e2e1aa9c2",
   "metadata": {},
   "outputs": [],
   "source": []
  },
  {
   "cell_type": "code",
   "execution_count": 25,
   "id": "5e3b9205",
   "metadata": {},
   "outputs": [
    {
     "data": {
      "text/plain": [
       "Make\n",
       "Hatchback    582\n",
       "SUV          297\n",
       "Sedan        702\n",
       "Name: Make, dtype: int64"
      ]
     },
     "execution_count": 25,
     "metadata": {},
     "output_type": "execute_result"
    }
   ],
   "source": [
    "sm.groupby(\"Make\")[\"Make\"].count()"
   ]
  },
  {
   "cell_type": "code",
   "execution_count": 26,
   "id": "1ebb133e",
   "metadata": {},
   "outputs": [
    {
     "data": {
      "text/plain": [
       "Sedan        702\n",
       "Hatchback    582\n",
       "SUV          297\n",
       "Name: Make, dtype: int64"
      ]
     },
     "execution_count": 26,
     "metadata": {},
     "output_type": "execute_result"
    }
   ],
   "source": [
    "sm.Make.value_counts()"
   ]
  },
  {
   "cell_type": "code",
   "execution_count": 27,
   "id": "1dbab58e",
   "metadata": {},
   "outputs": [],
   "source": [
    "df=pd.DataFrame(sm.describe().T.drop(columns=\"count\"))"
   ]
  },
  {
   "cell_type": "code",
   "execution_count": 28,
   "id": "a1090134",
   "metadata": {},
   "outputs": [
    {
     "data": {
      "text/html": [
       "<div>\n",
       "<style scoped>\n",
       "    .dataframe tbody tr th:only-of-type {\n",
       "        vertical-align: middle;\n",
       "    }\n",
       "\n",
       "    .dataframe tbody tr th {\n",
       "        vertical-align: top;\n",
       "    }\n",
       "\n",
       "    .dataframe thead th {\n",
       "        text-align: right;\n",
       "    }\n",
       "</style>\n",
       "<table border=\"1\" class=\"dataframe\">\n",
       "  <thead>\n",
       "    <tr style=\"text-align: right;\">\n",
       "      <th></th>\n",
       "      <th>mean</th>\n",
       "      <th>std</th>\n",
       "      <th>min</th>\n",
       "      <th>25%</th>\n",
       "      <th>50%</th>\n",
       "      <th>75%</th>\n",
       "      <th>max</th>\n",
       "    </tr>\n",
       "  </thead>\n",
       "  <tbody>\n",
       "    <tr>\n",
       "      <th>Age</th>\n",
       "      <td>31.922201</td>\n",
       "      <td>8.425978</td>\n",
       "      <td>22.0</td>\n",
       "      <td>25.0</td>\n",
       "      <td>29.0</td>\n",
       "      <td>38.0</td>\n",
       "      <td>54.0</td>\n",
       "    </tr>\n",
       "    <tr>\n",
       "      <th>No_of_Dependents</th>\n",
       "      <td>2.457938</td>\n",
       "      <td>0.943483</td>\n",
       "      <td>0.0</td>\n",
       "      <td>2.0</td>\n",
       "      <td>2.0</td>\n",
       "      <td>3.0</td>\n",
       "      <td>4.0</td>\n",
       "    </tr>\n",
       "    <tr>\n",
       "      <th>Salary</th>\n",
       "      <td>60392.220114</td>\n",
       "      <td>14674.825044</td>\n",
       "      <td>30000.0</td>\n",
       "      <td>51900.0</td>\n",
       "      <td>59500.0</td>\n",
       "      <td>71800.0</td>\n",
       "      <td>99300.0</td>\n",
       "    </tr>\n",
       "    <tr>\n",
       "      <th>Partner_salary</th>\n",
       "      <td>19233.776091</td>\n",
       "      <td>19670.391171</td>\n",
       "      <td>0.0</td>\n",
       "      <td>0.0</td>\n",
       "      <td>25100.0</td>\n",
       "      <td>38100.0</td>\n",
       "      <td>80500.0</td>\n",
       "    </tr>\n",
       "    <tr>\n",
       "      <th>Total_salary</th>\n",
       "      <td>79625.996205</td>\n",
       "      <td>25545.857768</td>\n",
       "      <td>30000.0</td>\n",
       "      <td>60500.0</td>\n",
       "      <td>78000.0</td>\n",
       "      <td>95900.0</td>\n",
       "      <td>171000.0</td>\n",
       "    </tr>\n",
       "    <tr>\n",
       "      <th>Price</th>\n",
       "      <td>35597.722960</td>\n",
       "      <td>13633.636545</td>\n",
       "      <td>18000.0</td>\n",
       "      <td>25000.0</td>\n",
       "      <td>31000.0</td>\n",
       "      <td>47000.0</td>\n",
       "      <td>70000.0</td>\n",
       "    </tr>\n",
       "  </tbody>\n",
       "</table>\n",
       "</div>"
      ],
      "text/plain": [
       "                          mean           std      min      25%      50%  \\\n",
       "Age                  31.922201      8.425978     22.0     25.0     29.0   \n",
       "No_of_Dependents      2.457938      0.943483      0.0      2.0      2.0   \n",
       "Salary            60392.220114  14674.825044  30000.0  51900.0  59500.0   \n",
       "Partner_salary    19233.776091  19670.391171      0.0      0.0  25100.0   \n",
       "Total_salary      79625.996205  25545.857768  30000.0  60500.0  78000.0   \n",
       "Price             35597.722960  13633.636545  18000.0  25000.0  31000.0   \n",
       "\n",
       "                      75%       max  \n",
       "Age                  38.0      54.0  \n",
       "No_of_Dependents      3.0       4.0  \n",
       "Salary            71800.0   99300.0  \n",
       "Partner_salary    38100.0   80500.0  \n",
       "Total_salary      95900.0  171000.0  \n",
       "Price             47000.0   70000.0  "
      ]
     },
     "execution_count": 28,
     "metadata": {},
     "output_type": "execute_result"
    }
   ],
   "source": [
    "df"
   ]
  },
  {
   "cell_type": "code",
   "execution_count": 33,
   "id": "c9a9c14f",
   "metadata": {},
   "outputs": [
    {
     "data": {
      "text/plain": [
       "Gender  Make     \n",
       "Female  Hatchback     15\n",
       "        SUV          173\n",
       "        Sedan        141\n",
       "Male    Hatchback    567\n",
       "        SUV          124\n",
       "        Sedan        561\n",
       "Name: Make, dtype: int64"
      ]
     },
     "execution_count": 33,
     "metadata": {},
     "output_type": "execute_result"
    }
   ],
   "source": [
    "sm.groupby([\"Gender\",\"Make\"])[\"Make\"].count()"
   ]
  },
  {
   "cell_type": "code",
   "execution_count": 34,
   "id": "e47ff2ea",
   "metadata": {},
   "outputs": [],
   "source": [
    "MaleD=sm[[\"Gender\",\"Make\"]].where(sm[\"Gender\"]==\"Male\")"
   ]
  },
  {
   "cell_type": "code",
   "execution_count": 35,
   "id": "3b2e3a4f",
   "metadata": {},
   "outputs": [
    {
     "data": {
      "text/plain": [
       "Gender    1252\n",
       "Make      1252\n",
       "dtype: int64"
      ]
     },
     "execution_count": 35,
     "metadata": {},
     "output_type": "execute_result"
    }
   ],
   "source": [
    "MaleD.count()"
   ]
  },
  {
   "cell_type": "code",
   "execution_count": 36,
   "id": "d78ca882",
   "metadata": {},
   "outputs": [],
   "source": [
    "FemaleD=sm[[\"Gender\",\"Make\"]].where(sm[\"Gender\"]==\"Female\")"
   ]
  },
  {
   "cell_type": "code",
   "execution_count": 37,
   "id": "02552848",
   "metadata": {},
   "outputs": [
    {
     "data": {
      "text/plain": [
       "Gender    329\n",
       "Make      329\n",
       "dtype: int64"
      ]
     },
     "execution_count": 37,
     "metadata": {},
     "output_type": "execute_result"
    }
   ],
   "source": [
    "FemaleD.count()"
   ]
  },
  {
   "cell_type": "code",
   "execution_count": 38,
   "id": "ba3a6ad0",
   "metadata": {},
   "outputs": [],
   "source": [
    "sam1=MaleD.sample(329).groupby(\"Make\").count()"
   ]
  },
  {
   "cell_type": "code",
   "execution_count": 39,
   "id": "51646995",
   "metadata": {},
   "outputs": [],
   "source": [
    "sam2=MaleD.sample(329).groupby(\"Make\").count()"
   ]
  },
  {
   "cell_type": "code",
   "execution_count": 40,
   "id": "e9332af5",
   "metadata": {},
   "outputs": [],
   "source": [
    "sam3=MaleD.sample(329).groupby(\"Make\").count()"
   ]
  },
  {
   "cell_type": "code",
   "execution_count": 41,
   "id": "3c20b099",
   "metadata": {},
   "outputs": [
    {
     "data": {
      "text/html": [
       "<div>\n",
       "<style scoped>\n",
       "    .dataframe tbody tr th:only-of-type {\n",
       "        vertical-align: middle;\n",
       "    }\n",
       "\n",
       "    .dataframe tbody tr th {\n",
       "        vertical-align: top;\n",
       "    }\n",
       "\n",
       "    .dataframe thead th {\n",
       "        text-align: right;\n",
       "    }\n",
       "</style>\n",
       "<table border=\"1\" class=\"dataframe\">\n",
       "  <thead>\n",
       "    <tr style=\"text-align: right;\">\n",
       "      <th></th>\n",
       "      <th>Gender</th>\n",
       "    </tr>\n",
       "    <tr>\n",
       "      <th>Make</th>\n",
       "      <th></th>\n",
       "    </tr>\n",
       "  </thead>\n",
       "  <tbody>\n",
       "    <tr>\n",
       "      <th>Hatchback</th>\n",
       "      <td>111</td>\n",
       "    </tr>\n",
       "    <tr>\n",
       "      <th>SUV</th>\n",
       "      <td>22</td>\n",
       "    </tr>\n",
       "    <tr>\n",
       "      <th>Sedan</th>\n",
       "      <td>133</td>\n",
       "    </tr>\n",
       "  </tbody>\n",
       "</table>\n",
       "</div>"
      ],
      "text/plain": [
       "           Gender\n",
       "Make             \n",
       "Hatchback     111\n",
       "SUV            22\n",
       "Sedan         133"
      ]
     },
     "execution_count": 41,
     "metadata": {},
     "output_type": "execute_result"
    }
   ],
   "source": [
    "sam1"
   ]
  },
  {
   "cell_type": "code",
   "execution_count": 42,
   "id": "f0e245dd",
   "metadata": {},
   "outputs": [
    {
     "data": {
      "text/html": [
       "<div>\n",
       "<style scoped>\n",
       "    .dataframe tbody tr th:only-of-type {\n",
       "        vertical-align: middle;\n",
       "    }\n",
       "\n",
       "    .dataframe tbody tr th {\n",
       "        vertical-align: top;\n",
       "    }\n",
       "\n",
       "    .dataframe thead th {\n",
       "        text-align: right;\n",
       "    }\n",
       "</style>\n",
       "<table border=\"1\" class=\"dataframe\">\n",
       "  <thead>\n",
       "    <tr style=\"text-align: right;\">\n",
       "      <th></th>\n",
       "      <th>Gender</th>\n",
       "    </tr>\n",
       "    <tr>\n",
       "      <th>Make</th>\n",
       "      <th></th>\n",
       "    </tr>\n",
       "  </thead>\n",
       "  <tbody>\n",
       "    <tr>\n",
       "      <th>Hatchback</th>\n",
       "      <td>112</td>\n",
       "    </tr>\n",
       "    <tr>\n",
       "      <th>SUV</th>\n",
       "      <td>26</td>\n",
       "    </tr>\n",
       "    <tr>\n",
       "      <th>Sedan</th>\n",
       "      <td>120</td>\n",
       "    </tr>\n",
       "  </tbody>\n",
       "</table>\n",
       "</div>"
      ],
      "text/plain": [
       "           Gender\n",
       "Make             \n",
       "Hatchback     112\n",
       "SUV            26\n",
       "Sedan         120"
      ]
     },
     "execution_count": 42,
     "metadata": {},
     "output_type": "execute_result"
    }
   ],
   "source": [
    "sam2"
   ]
  },
  {
   "cell_type": "code",
   "execution_count": 43,
   "id": "f666c263",
   "metadata": {},
   "outputs": [
    {
     "data": {
      "text/html": [
       "<div>\n",
       "<style scoped>\n",
       "    .dataframe tbody tr th:only-of-type {\n",
       "        vertical-align: middle;\n",
       "    }\n",
       "\n",
       "    .dataframe tbody tr th {\n",
       "        vertical-align: top;\n",
       "    }\n",
       "\n",
       "    .dataframe thead th {\n",
       "        text-align: right;\n",
       "    }\n",
       "</style>\n",
       "<table border=\"1\" class=\"dataframe\">\n",
       "  <thead>\n",
       "    <tr style=\"text-align: right;\">\n",
       "      <th></th>\n",
       "      <th>Gender</th>\n",
       "    </tr>\n",
       "    <tr>\n",
       "      <th>Make</th>\n",
       "      <th></th>\n",
       "    </tr>\n",
       "  </thead>\n",
       "  <tbody>\n",
       "    <tr>\n",
       "      <th>Hatchback</th>\n",
       "      <td>114</td>\n",
       "    </tr>\n",
       "    <tr>\n",
       "      <th>SUV</th>\n",
       "      <td>31</td>\n",
       "    </tr>\n",
       "    <tr>\n",
       "      <th>Sedan</th>\n",
       "      <td>107</td>\n",
       "    </tr>\n",
       "  </tbody>\n",
       "</table>\n",
       "</div>"
      ],
      "text/plain": [
       "           Gender\n",
       "Make             \n",
       "Hatchback     114\n",
       "SUV            31\n",
       "Sedan         107"
      ]
     },
     "execution_count": 43,
     "metadata": {},
     "output_type": "execute_result"
    }
   ],
   "source": [
    "sam3"
   ]
  },
  {
   "cell_type": "code",
   "execution_count": 44,
   "id": "2fea166a",
   "metadata": {},
   "outputs": [
    {
     "data": {
      "text/html": [
       "<div>\n",
       "<style scoped>\n",
       "    .dataframe tbody tr th:only-of-type {\n",
       "        vertical-align: middle;\n",
       "    }\n",
       "\n",
       "    .dataframe tbody tr th {\n",
       "        vertical-align: top;\n",
       "    }\n",
       "\n",
       "    .dataframe thead th {\n",
       "        text-align: right;\n",
       "    }\n",
       "</style>\n",
       "<table border=\"1\" class=\"dataframe\">\n",
       "  <thead>\n",
       "    <tr style=\"text-align: right;\">\n",
       "      <th></th>\n",
       "      <th>Male</th>\n",
       "    </tr>\n",
       "    <tr>\n",
       "      <th>Make</th>\n",
       "      <th></th>\n",
       "    </tr>\n",
       "  </thead>\n",
       "  <tbody>\n",
       "    <tr>\n",
       "      <th>Hatchback</th>\n",
       "      <td>111</td>\n",
       "    </tr>\n",
       "    <tr>\n",
       "      <th>SUV</th>\n",
       "      <td>22</td>\n",
       "    </tr>\n",
       "    <tr>\n",
       "      <th>Sedan</th>\n",
       "      <td>133</td>\n",
       "    </tr>\n",
       "  </tbody>\n",
       "</table>\n",
       "</div>"
      ],
      "text/plain": [
       "           Male\n",
       "Make           \n",
       "Hatchback   111\n",
       "SUV          22\n",
       "Sedan       133"
      ]
     },
     "execution_count": 44,
     "metadata": {},
     "output_type": "execute_result"
    }
   ],
   "source": [
    "sam1.rename(columns={\"Gender\":\"Male\"})"
   ]
  },
  {
   "cell_type": "code",
   "execution_count": 45,
   "id": "7e1489e6",
   "metadata": {},
   "outputs": [
    {
     "data": {
      "text/html": [
       "<div>\n",
       "<style scoped>\n",
       "    .dataframe tbody tr th:only-of-type {\n",
       "        vertical-align: middle;\n",
       "    }\n",
       "\n",
       "    .dataframe tbody tr th {\n",
       "        vertical-align: top;\n",
       "    }\n",
       "\n",
       "    .dataframe thead th {\n",
       "        text-align: right;\n",
       "    }\n",
       "</style>\n",
       "<table border=\"1\" class=\"dataframe\">\n",
       "  <thead>\n",
       "    <tr style=\"text-align: right;\">\n",
       "      <th></th>\n",
       "      <th>Male</th>\n",
       "    </tr>\n",
       "    <tr>\n",
       "      <th>Make</th>\n",
       "      <th></th>\n",
       "    </tr>\n",
       "  </thead>\n",
       "  <tbody>\n",
       "    <tr>\n",
       "      <th>Hatchback</th>\n",
       "      <td>112</td>\n",
       "    </tr>\n",
       "    <tr>\n",
       "      <th>SUV</th>\n",
       "      <td>26</td>\n",
       "    </tr>\n",
       "    <tr>\n",
       "      <th>Sedan</th>\n",
       "      <td>120</td>\n",
       "    </tr>\n",
       "  </tbody>\n",
       "</table>\n",
       "</div>"
      ],
      "text/plain": [
       "           Male\n",
       "Make           \n",
       "Hatchback   112\n",
       "SUV          26\n",
       "Sedan       120"
      ]
     },
     "execution_count": 45,
     "metadata": {},
     "output_type": "execute_result"
    }
   ],
   "source": [
    "sam2.rename(columns={\"Gender\":\"Male\"})"
   ]
  },
  {
   "cell_type": "code",
   "execution_count": 46,
   "id": "82d09f0c",
   "metadata": {},
   "outputs": [
    {
     "data": {
      "text/html": [
       "<div>\n",
       "<style scoped>\n",
       "    .dataframe tbody tr th:only-of-type {\n",
       "        vertical-align: middle;\n",
       "    }\n",
       "\n",
       "    .dataframe tbody tr th {\n",
       "        vertical-align: top;\n",
       "    }\n",
       "\n",
       "    .dataframe thead th {\n",
       "        text-align: right;\n",
       "    }\n",
       "</style>\n",
       "<table border=\"1\" class=\"dataframe\">\n",
       "  <thead>\n",
       "    <tr style=\"text-align: right;\">\n",
       "      <th></th>\n",
       "      <th>Male</th>\n",
       "    </tr>\n",
       "    <tr>\n",
       "      <th>Make</th>\n",
       "      <th></th>\n",
       "    </tr>\n",
       "  </thead>\n",
       "  <tbody>\n",
       "    <tr>\n",
       "      <th>Hatchback</th>\n",
       "      <td>114</td>\n",
       "    </tr>\n",
       "    <tr>\n",
       "      <th>SUV</th>\n",
       "      <td>31</td>\n",
       "    </tr>\n",
       "    <tr>\n",
       "      <th>Sedan</th>\n",
       "      <td>107</td>\n",
       "    </tr>\n",
       "  </tbody>\n",
       "</table>\n",
       "</div>"
      ],
      "text/plain": [
       "           Male\n",
       "Make           \n",
       "Hatchback   114\n",
       "SUV          31\n",
       "Sedan       107"
      ]
     },
     "execution_count": 46,
     "metadata": {},
     "output_type": "execute_result"
    }
   ],
   "source": [
    "sam3.rename(columns={\"Gender\":\"Male\"})"
   ]
  },
  {
   "cell_type": "code",
   "execution_count": 47,
   "id": "cfe10c9c",
   "metadata": {},
   "outputs": [],
   "source": [
    "SUVMale=[sam1.iloc[1][0],sam2.iloc[1][0],sam3.iloc[1][0]]"
   ]
  },
  {
   "cell_type": "code",
   "execution_count": 48,
   "id": "2b37bdbf",
   "metadata": {},
   "outputs": [],
   "source": [
    "FmD=(FemaleD.groupby(\"Make\").count()).rename(columns={\"Gender\":\"Female\"})"
   ]
  },
  {
   "cell_type": "code",
   "execution_count": 49,
   "id": "6efb58ef",
   "metadata": {},
   "outputs": [
    {
     "data": {
      "text/html": [
       "<div>\n",
       "<style scoped>\n",
       "    .dataframe tbody tr th:only-of-type {\n",
       "        vertical-align: middle;\n",
       "    }\n",
       "\n",
       "    .dataframe tbody tr th {\n",
       "        vertical-align: top;\n",
       "    }\n",
       "\n",
       "    .dataframe thead th {\n",
       "        text-align: right;\n",
       "    }\n",
       "</style>\n",
       "<table border=\"1\" class=\"dataframe\">\n",
       "  <thead>\n",
       "    <tr style=\"text-align: right;\">\n",
       "      <th></th>\n",
       "      <th>Female</th>\n",
       "    </tr>\n",
       "    <tr>\n",
       "      <th>Make</th>\n",
       "      <th></th>\n",
       "    </tr>\n",
       "  </thead>\n",
       "  <tbody>\n",
       "    <tr>\n",
       "      <th>Hatchback</th>\n",
       "      <td>15</td>\n",
       "    </tr>\n",
       "    <tr>\n",
       "      <th>SUV</th>\n",
       "      <td>173</td>\n",
       "    </tr>\n",
       "    <tr>\n",
       "      <th>Sedan</th>\n",
       "      <td>141</td>\n",
       "    </tr>\n",
       "  </tbody>\n",
       "</table>\n",
       "</div>"
      ],
      "text/plain": [
       "           Female\n",
       "Make             \n",
       "Hatchback      15\n",
       "SUV           173\n",
       "Sedan         141"
      ]
     },
     "execution_count": 49,
     "metadata": {},
     "output_type": "execute_result"
    }
   ],
   "source": [
    "FmD"
   ]
  },
  {
   "cell_type": "code",
   "execution_count": 50,
   "id": "9d3eaa86",
   "metadata": {},
   "outputs": [],
   "source": [
    "SUVFemale=[FmD.iloc[1][0],FmD.iloc[1][0],FmD.iloc[1][0]]"
   ]
  },
  {
   "cell_type": "code",
   "execution_count": 51,
   "id": "6b190962",
   "metadata": {},
   "outputs": [],
   "source": [
    "df1=pd.DataFrame({\"Male\":SUVMale,\"Female\":SUVFemale},index=[\"Sample1\",\"Sample2\",\"Sample3\"])"
   ]
  },
  {
   "cell_type": "code",
   "execution_count": 52,
   "id": "1d9a1e74",
   "metadata": {},
   "outputs": [
    {
     "data": {
      "text/plain": [
       "<Axes: >"
      ]
     },
     "execution_count": 52,
     "metadata": {},
     "output_type": "execute_result"
    },
    {
     "data": {
      "image/png": "[encoded data removed]",
      "text/plain": [
       "<Figure size 640x480 with 1 Axes>"
      ]
     },
     "metadata": {},
     "output_type": "display_data"
    }
   ],
   "source": [
    "df1.plot.bar(rot=0)"
   ]
  },
  {
   "cell_type": "code",
   "execution_count": 53,
   "id": "32911d64",
   "metadata": {},
   "outputs": [
    {
     "data": {
      "text/plain": [
       "Profession\n",
       "Business    685\n",
       "Salaried    896\n",
       "Name: Make, dtype: int64"
      ]
     },
     "execution_count": 53,
     "metadata": {},
     "output_type": "execute_result"
    }
   ],
   "source": [
    "sm.groupby(\"Profession\")['Make'].count()"
   ]
  },
  {
   "cell_type": "code",
   "execution_count": 55,
   "id": "59a32354",
   "metadata": {},
   "outputs": [],
   "source": [
    "HBMale=[sam1.iloc[0][0],sam2.iloc[0][0],sam3.iloc[0][0]]\n",
    "HBFemale=[FmD.iloc[0][0],FmD.iloc[0][0],FmD.iloc[0][0]]"
   ]
  },
  {
   "cell_type": "code",
   "execution_count": 56,
   "id": "d9d3118a",
   "metadata": {},
   "outputs": [],
   "source": [
    "df2=pd.DataFrame({\"Male\":HBMale,\"Female\":HBFemale},index=[\"Sample1\",\"Sample2\",\"Sample3\"])"
   ]
  },
  {
   "cell_type": "code",
   "execution_count": 57,
   "id": "45d3ca46",
   "metadata": {},
   "outputs": [
    {
     "data": {
      "text/plain": [
       "<Axes: >"
      ]
     },
     "execution_count": 57,
     "metadata": {},
     "output_type": "execute_result"
    },
    {
     "data": {
      "image/png": "[encoded data removed]",
      "text/plain": [
       "<Figure size 640x480 with 1 Axes>"
      ]
     },
     "metadata": {},
     "output_type": "display_data"
    }
   ],
   "source": [
    "df2.plot.bar()"
   ]
  },
  {
   "cell_type": "code",
   "execution_count": 71,
   "id": "2554183b",
   "metadata": {},
   "outputs": [],
   "source": [
    "prof=sm.loc[:,[\"Gender\",\"Profession\",\"Make\"]]"
   ]
  },
  {
   "cell_type": "code",
   "execution_count": 72,
   "id": "fcf1b7f9",
   "metadata": {},
   "outputs": [
    {
     "data": {
      "text/html": [
       "<div>\n",
       "<style scoped>\n",
       "    .dataframe tbody tr th:only-of-type {\n",
       "        vertical-align: middle;\n",
       "    }\n",
       "\n",
       "    .dataframe tbody tr th {\n",
       "        vertical-align: top;\n",
       "    }\n",
       "\n",
       "    .dataframe thead th {\n",
       "        text-align: right;\n",
       "    }\n",
       "</style>\n",
       "<table border=\"1\" class=\"dataframe\">\n",
       "  <thead>\n",
       "    <tr style=\"text-align: right;\">\n",
       "      <th></th>\n",
       "      <th>Gender</th>\n",
       "      <th>Profession</th>\n",
       "      <th>Make</th>\n",
       "    </tr>\n",
       "  </thead>\n",
       "  <tbody>\n",
       "    <tr>\n",
       "      <th>0</th>\n",
       "      <td>Male</td>\n",
       "      <td>Business</td>\n",
       "      <td>SUV</td>\n",
       "    </tr>\n",
       "    <tr>\n",
       "      <th>1</th>\n",
       "      <td>Female</td>\n",
       "      <td>Salaried</td>\n",
       "      <td>SUV</td>\n",
       "    </tr>\n",
       "    <tr>\n",
       "      <th>2</th>\n",
       "      <td>Female</td>\n",
       "      <td>Salaried</td>\n",
       "      <td>SUV</td>\n",
       "    </tr>\n",
       "    <tr>\n",
       "      <th>3</th>\n",
       "      <td>Female</td>\n",
       "      <td>Salaried</td>\n",
       "      <td>SUV</td>\n",
       "    </tr>\n",
       "    <tr>\n",
       "      <th>4</th>\n",
       "      <td>Male</td>\n",
       "      <td>Salaried</td>\n",
       "      <td>SUV</td>\n",
       "    </tr>\n",
       "    <tr>\n",
       "      <th>...</th>\n",
       "      <td>...</td>\n",
       "      <td>...</td>\n",
       "      <td>...</td>\n",
       "    </tr>\n",
       "    <tr>\n",
       "      <th>1576</th>\n",
       "      <td>Male</td>\n",
       "      <td>Salaried</td>\n",
       "      <td>Hatchback</td>\n",
       "    </tr>\n",
       "    <tr>\n",
       "      <th>1577</th>\n",
       "      <td>Male</td>\n",
       "      <td>Business</td>\n",
       "      <td>Hatchback</td>\n",
       "    </tr>\n",
       "    <tr>\n",
       "      <th>1578</th>\n",
       "      <td>Male</td>\n",
       "      <td>Business</td>\n",
       "      <td>Hatchback</td>\n",
       "    </tr>\n",
       "    <tr>\n",
       "      <th>1579</th>\n",
       "      <td>Male</td>\n",
       "      <td>Business</td>\n",
       "      <td>Hatchback</td>\n",
       "    </tr>\n",
       "    <tr>\n",
       "      <th>1580</th>\n",
       "      <td>Male</td>\n",
       "      <td>Salaried</td>\n",
       "      <td>Hatchback</td>\n",
       "    </tr>\n",
       "  </tbody>\n",
       "</table>\n",
       "<p>1581 rows × 3 columns</p>\n",
       "</div>"
      ],
      "text/plain": [
       "      Gender Profession       Make\n",
       "0       Male   Business        SUV\n",
       "1     Female   Salaried        SUV\n",
       "2     Female   Salaried        SUV\n",
       "3     Female   Salaried        SUV\n",
       "4       Male   Salaried        SUV\n",
       "...      ...        ...        ...\n",
       "1576    Male   Salaried  Hatchback\n",
       "1577    Male   Business  Hatchback\n",
       "1578    Male   Business  Hatchback\n",
       "1579    Male   Business  Hatchback\n",
       "1580    Male   Salaried  Hatchback\n",
       "\n",
       "[1581 rows x 3 columns]"
      ]
     },
     "execution_count": 72,
     "metadata": {},
     "output_type": "execute_result"
    }
   ],
   "source": [
    "prof"
   ]
  },
  {
   "cell_type": "code",
   "execution_count": 60,
   "id": "3910c23e",
   "metadata": {},
   "outputs": [],
   "source": [
    "bsD=prof.where(prof[\"Profession\"]==\"Business\")"
   ]
  },
  {
   "cell_type": "code",
   "execution_count": 61,
   "id": "df18a12e",
   "metadata": {},
   "outputs": [],
   "source": [
    "salD=prof.where(prof[\"Profession\"]==\"Salaried\")"
   ]
  },
  {
   "cell_type": "code",
   "execution_count": 64,
   "id": "2fda8357",
   "metadata": {},
   "outputs": [],
   "source": [
    "bsD=bsD.groupby(\"Make\").count().rename(columns={\"Profession\":\"Business\"})"
   ]
  },
  {
   "cell_type": "code",
   "execution_count": 65,
   "id": "4a42fef3",
   "metadata": {},
   "outputs": [],
   "source": [
    "salD=salD.groupby(\"Make\").count().rename(columns={\"Profession\":\"Salaried\"})"
   ]
  },
  {
   "cell_type": "code",
   "execution_count": 67,
   "id": "b7e8bae8",
   "metadata": {},
   "outputs": [
    {
     "data": {
      "text/html": [
       "<div>\n",
       "<style scoped>\n",
       "    .dataframe tbody tr th:only-of-type {\n",
       "        vertical-align: middle;\n",
       "    }\n",
       "\n",
       "    .dataframe tbody tr th {\n",
       "        vertical-align: top;\n",
       "    }\n",
       "\n",
       "    .dataframe thead th {\n",
       "        text-align: right;\n",
       "    }\n",
       "</style>\n",
       "<table border=\"1\" class=\"dataframe\">\n",
       "  <thead>\n",
       "    <tr style=\"text-align: right;\">\n",
       "      <th></th>\n",
       "      <th>Business</th>\n",
       "    </tr>\n",
       "    <tr>\n",
       "      <th>Make</th>\n",
       "      <th></th>\n",
       "    </tr>\n",
       "  </thead>\n",
       "  <tbody>\n",
       "    <tr>\n",
       "      <th>Hatchback</th>\n",
       "      <td>290</td>\n",
       "    </tr>\n",
       "    <tr>\n",
       "      <th>SUV</th>\n",
       "      <td>89</td>\n",
       "    </tr>\n",
       "    <tr>\n",
       "      <th>Sedan</th>\n",
       "      <td>306</td>\n",
       "    </tr>\n",
       "  </tbody>\n",
       "</table>\n",
       "</div>"
      ],
      "text/plain": [
       "           Business\n",
       "Make               \n",
       "Hatchback       290\n",
       "SUV              89\n",
       "Sedan           306"
      ]
     },
     "execution_count": 67,
     "metadata": {},
     "output_type": "execute_result"
    }
   ],
   "source": [
    "bsD"
   ]
  },
  {
   "cell_type": "code",
   "execution_count": 68,
   "id": "697cb0d9",
   "metadata": {},
   "outputs": [
    {
     "data": {
      "text/html": [
       "<div>\n",
       "<style scoped>\n",
       "    .dataframe tbody tr th:only-of-type {\n",
       "        vertical-align: middle;\n",
       "    }\n",
       "\n",
       "    .dataframe tbody tr th {\n",
       "        vertical-align: top;\n",
       "    }\n",
       "\n",
       "    .dataframe thead th {\n",
       "        text-align: right;\n",
       "    }\n",
       "</style>\n",
       "<table border=\"1\" class=\"dataframe\">\n",
       "  <thead>\n",
       "    <tr style=\"text-align: right;\">\n",
       "      <th></th>\n",
       "      <th>Salaried</th>\n",
       "    </tr>\n",
       "    <tr>\n",
       "      <th>Make</th>\n",
       "      <th></th>\n",
       "    </tr>\n",
       "  </thead>\n",
       "  <tbody>\n",
       "    <tr>\n",
       "      <th>Hatchback</th>\n",
       "      <td>292</td>\n",
       "    </tr>\n",
       "    <tr>\n",
       "      <th>SUV</th>\n",
       "      <td>208</td>\n",
       "    </tr>\n",
       "    <tr>\n",
       "      <th>Sedan</th>\n",
       "      <td>396</td>\n",
       "    </tr>\n",
       "  </tbody>\n",
       "</table>\n",
       "</div>"
      ],
      "text/plain": [
       "           Salaried\n",
       "Make               \n",
       "Hatchback       292\n",
       "SUV             208\n",
       "Sedan           396"
      ]
     },
     "execution_count": 68,
     "metadata": {},
     "output_type": "execute_result"
    }
   ],
   "source": [
    "salD"
   ]
  },
  {
   "cell_type": "code",
   "execution_count": null,
   "id": "af98673a-6052-4ddc-b915-c5fe27de7f1d",
   "metadata": {},
   "outputs": [],
   "source": [
    "bsSUV=[bsD.iloc[1][0],salD.iloc[1][0]]\n",
    "bsSedan=[bsD.iloc[2][0],salD.iloc[2][0]]"
   ]
  },
  {
   "cell_type": "code",
   "execution_count": null,
   "id": "cd3188e2-2e1b-4fa8-b0d6-fb5191276160",
   "metadata": {},
   "outputs": [],
   "source": [
    "df3=pd.DataFrame({\"SUV\":bsSUV,\"Sedan\":bsSedan},index=[\"SUV\",\"Sedan\"])"
   ]
  },
  {
   "cell_type": "code",
   "execution_count": null,
   "id": "9881aa8d-1bae-4bfc-9f57-c11099e8c931",
   "metadata": {},
   "outputs": [],
   "source": [
    "df3.plot.bar()"
   ]
  },
  {
   "cell_type": "code",
   "execution_count": 75,
   "id": "97eb0a60",
   "metadata": {},
   "outputs": [],
   "source": [
    "salD=prof.where(prof[\"Profession\"]==\"Salaried\").dropna()"
   ]
  },
  {
   "cell_type": "code",
   "execution_count": 76,
   "id": "e96c4aa0",
   "metadata": {},
   "outputs": [
    {
     "data": {
      "text/html": [
       "<div>\n",
       "<style scoped>\n",
       "    .dataframe tbody tr th:only-of-type {\n",
       "        vertical-align: middle;\n",
       "    }\n",
       "\n",
       "    .dataframe tbody tr th {\n",
       "        vertical-align: top;\n",
       "    }\n",
       "\n",
       "    .dataframe thead th {\n",
       "        text-align: right;\n",
       "    }\n",
       "</style>\n",
       "<table border=\"1\" class=\"dataframe\">\n",
       "  <thead>\n",
       "    <tr style=\"text-align: right;\">\n",
       "      <th></th>\n",
       "      <th>Gender</th>\n",
       "      <th>Profession</th>\n",
       "      <th>Make</th>\n",
       "    </tr>\n",
       "  </thead>\n",
       "  <tbody>\n",
       "    <tr>\n",
       "      <th>1</th>\n",
       "      <td>Female</td>\n",
       "      <td>Salaried</td>\n",
       "      <td>SUV</td>\n",
       "    </tr>\n",
       "    <tr>\n",
       "      <th>2</th>\n",
       "      <td>Female</td>\n",
       "      <td>Salaried</td>\n",
       "      <td>SUV</td>\n",
       "    </tr>\n",
       "    <tr>\n",
       "      <th>3</th>\n",
       "      <td>Female</td>\n",
       "      <td>Salaried</td>\n",
       "      <td>SUV</td>\n",
       "    </tr>\n",
       "    <tr>\n",
       "      <th>4</th>\n",
       "      <td>Male</td>\n",
       "      <td>Salaried</td>\n",
       "      <td>SUV</td>\n",
       "    </tr>\n",
       "    <tr>\n",
       "      <th>5</th>\n",
       "      <td>Female</td>\n",
       "      <td>Salaried</td>\n",
       "      <td>SUV</td>\n",
       "    </tr>\n",
       "    <tr>\n",
       "      <th>...</th>\n",
       "      <td>...</td>\n",
       "      <td>...</td>\n",
       "      <td>...</td>\n",
       "    </tr>\n",
       "    <tr>\n",
       "      <th>1569</th>\n",
       "      <td>Male</td>\n",
       "      <td>Salaried</td>\n",
       "      <td>Hatchback</td>\n",
       "    </tr>\n",
       "    <tr>\n",
       "      <th>1574</th>\n",
       "      <td>Male</td>\n",
       "      <td>Salaried</td>\n",
       "      <td>Sedan</td>\n",
       "    </tr>\n",
       "    <tr>\n",
       "      <th>1575</th>\n",
       "      <td>Male</td>\n",
       "      <td>Salaried</td>\n",
       "      <td>Hatchback</td>\n",
       "    </tr>\n",
       "    <tr>\n",
       "      <th>1576</th>\n",
       "      <td>Male</td>\n",
       "      <td>Salaried</td>\n",
       "      <td>Hatchback</td>\n",
       "    </tr>\n",
       "    <tr>\n",
       "      <th>1580</th>\n",
       "      <td>Male</td>\n",
       "      <td>Salaried</td>\n",
       "      <td>Hatchback</td>\n",
       "    </tr>\n",
       "  </tbody>\n",
       "</table>\n",
       "<p>896 rows × 3 columns</p>\n",
       "</div>"
      ],
      "text/plain": [
       "      Gender Profession       Make\n",
       "1     Female   Salaried        SUV\n",
       "2     Female   Salaried        SUV\n",
       "3     Female   Salaried        SUV\n",
       "4       Male   Salaried        SUV\n",
       "5     Female   Salaried        SUV\n",
       "...      ...        ...        ...\n",
       "1569    Male   Salaried  Hatchback\n",
       "1574    Male   Salaried      Sedan\n",
       "1575    Male   Salaried  Hatchback\n",
       "1576    Male   Salaried  Hatchback\n",
       "1580    Male   Salaried  Hatchback\n",
       "\n",
       "[896 rows x 3 columns]"
      ]
     },
     "execution_count": 76,
     "metadata": {},
     "output_type": "execute_result"
    }
   ],
   "source": [
    "salD"
   ]
  },
  {
   "cell_type": "code",
   "execution_count": 89,
   "id": "a24d16f5",
   "metadata": {},
   "outputs": [
    {
     "data": {
      "text/html": [
       "<div>\n",
       "<style scoped>\n",
       "    .dataframe tbody tr th:only-of-type {\n",
       "        vertical-align: middle;\n",
       "    }\n",
       "\n",
       "    .dataframe tbody tr th {\n",
       "        vertical-align: top;\n",
       "    }\n",
       "\n",
       "    .dataframe thead th {\n",
       "        text-align: right;\n",
       "    }\n",
       "</style>\n",
       "<table border=\"1\" class=\"dataframe\">\n",
       "  <thead>\n",
       "    <tr style=\"text-align: right;\">\n",
       "      <th></th>\n",
       "      <th></th>\n",
       "      <th>Profession</th>\n",
       "    </tr>\n",
       "    <tr>\n",
       "      <th>Gender</th>\n",
       "      <th>Make</th>\n",
       "      <th></th>\n",
       "    </tr>\n",
       "  </thead>\n",
       "  <tbody>\n",
       "    <tr>\n",
       "      <th rowspan=\"3\" valign=\"top\">Female</th>\n",
       "      <th>Hatchback</th>\n",
       "      <td>15</td>\n",
       "    </tr>\n",
       "    <tr>\n",
       "      <th>SUV</th>\n",
       "      <td>118</td>\n",
       "    </tr>\n",
       "    <tr>\n",
       "      <th>Sedan</th>\n",
       "      <td>91</td>\n",
       "    </tr>\n",
       "    <tr>\n",
       "      <th rowspan=\"3\" valign=\"top\">Male</th>\n",
       "      <th>Hatchback</th>\n",
       "      <td>277</td>\n",
       "    </tr>\n",
       "    <tr>\n",
       "      <th>SUV</th>\n",
       "      <td>90</td>\n",
       "    </tr>\n",
       "    <tr>\n",
       "      <th>Sedan</th>\n",
       "      <td>305</td>\n",
       "    </tr>\n",
       "  </tbody>\n",
       "</table>\n",
       "</div>"
      ],
      "text/plain": [
       "                  Profession\n",
       "Gender Make                 \n",
       "Female Hatchback          15\n",
       "       SUV               118\n",
       "       Sedan              91\n",
       "Male   Hatchback         277\n",
       "       SUV                90\n",
       "       Sedan             305"
      ]
     },
     "execution_count": 89,
     "metadata": {},
     "output_type": "execute_result"
    }
   ],
   "source": [
    "salD.groupby([\"Gender\",\"Make\"]).count()"
   ]
  },
  {
   "cell_type": "code",
   "execution_count": 86,
   "id": "39540198",
   "metadata": {},
   "outputs": [],
   "source": [
    "salMale=salD.where(salD[\"Gender\"]==\"Male\")[[\"Profession\",\"Make\"]].dropna()"
   ]
  },
  {
   "cell_type": "code",
   "execution_count": 87,
   "id": "bb242915",
   "metadata": {},
   "outputs": [
    {
     "data": {
      "text/html": [
       "<div>\n",
       "<style scoped>\n",
       "    .dataframe tbody tr th:only-of-type {\n",
       "        vertical-align: middle;\n",
       "    }\n",
       "\n",
       "    .dataframe tbody tr th {\n",
       "        vertical-align: top;\n",
       "    }\n",
       "\n",
       "    .dataframe thead th {\n",
       "        text-align: right;\n",
       "    }\n",
       "</style>\n",
       "<table border=\"1\" class=\"dataframe\">\n",
       "  <thead>\n",
       "    <tr style=\"text-align: right;\">\n",
       "      <th></th>\n",
       "      <th>Profession</th>\n",
       "      <th>Make</th>\n",
       "    </tr>\n",
       "  </thead>\n",
       "  <tbody>\n",
       "    <tr>\n",
       "      <th>4</th>\n",
       "      <td>Salaried</td>\n",
       "      <td>SUV</td>\n",
       "    </tr>\n",
       "    <tr>\n",
       "      <th>7</th>\n",
       "      <td>Salaried</td>\n",
       "      <td>SUV</td>\n",
       "    </tr>\n",
       "    <tr>\n",
       "      <th>8</th>\n",
       "      <td>Salaried</td>\n",
       "      <td>SUV</td>\n",
       "    </tr>\n",
       "    <tr>\n",
       "      <th>9</th>\n",
       "      <td>Salaried</td>\n",
       "      <td>SUV</td>\n",
       "    </tr>\n",
       "    <tr>\n",
       "      <th>10</th>\n",
       "      <td>Salaried</td>\n",
       "      <td>SUV</td>\n",
       "    </tr>\n",
       "    <tr>\n",
       "      <th>...</th>\n",
       "      <td>...</td>\n",
       "      <td>...</td>\n",
       "    </tr>\n",
       "    <tr>\n",
       "      <th>1569</th>\n",
       "      <td>Salaried</td>\n",
       "      <td>Hatchback</td>\n",
       "    </tr>\n",
       "    <tr>\n",
       "      <th>1574</th>\n",
       "      <td>Salaried</td>\n",
       "      <td>Sedan</td>\n",
       "    </tr>\n",
       "    <tr>\n",
       "      <th>1575</th>\n",
       "      <td>Salaried</td>\n",
       "      <td>Hatchback</td>\n",
       "    </tr>\n",
       "    <tr>\n",
       "      <th>1576</th>\n",
       "      <td>Salaried</td>\n",
       "      <td>Hatchback</td>\n",
       "    </tr>\n",
       "    <tr>\n",
       "      <th>1580</th>\n",
       "      <td>Salaried</td>\n",
       "      <td>Hatchback</td>\n",
       "    </tr>\n",
       "  </tbody>\n",
       "</table>\n",
       "<p>672 rows × 2 columns</p>\n",
       "</div>"
      ],
      "text/plain": [
       "     Profession       Make\n",
       "4      Salaried        SUV\n",
       "7      Salaried        SUV\n",
       "8      Salaried        SUV\n",
       "9      Salaried        SUV\n",
       "10     Salaried        SUV\n",
       "...         ...        ...\n",
       "1569   Salaried  Hatchback\n",
       "1574   Salaried      Sedan\n",
       "1575   Salaried  Hatchback\n",
       "1576   Salaried  Hatchback\n",
       "1580   Salaried  Hatchback\n",
       "\n",
       "[672 rows x 2 columns]"
      ]
     },
     "execution_count": 87,
     "metadata": {},
     "output_type": "execute_result"
    }
   ],
   "source": [
    "salMale"
   ]
  },
  {
   "cell_type": "code",
   "execution_count": null,
   "id": "8dfa313e",
   "metadata": {},
   "outputs": [],
   "source": [
    "# Analyse the target car on the basis of personal loan"
   ]
  },
  {
   "cell_type": "code",
   "execution_count": 90,
   "id": "1c3f37a3",
   "metadata": {},
   "outputs": [],
   "source": [
    "pl=sm.loc[:,[\"Personal_loan\",\"Make\"]]"
   ]
  },
  {
   "cell_type": "code",
   "execution_count": 91,
   "id": "559b8e2c",
   "metadata": {},
   "outputs": [
    {
     "data": {
      "text/html": [
       "<div>\n",
       "<style scoped>\n",
       "    .dataframe tbody tr th:only-of-type {\n",
       "        vertical-align: middle;\n",
       "    }\n",
       "\n",
       "    .dataframe tbody tr th {\n",
       "        vertical-align: top;\n",
       "    }\n",
       "\n",
       "    .dataframe thead th {\n",
       "        text-align: right;\n",
       "    }\n",
       "</style>\n",
       "<table border=\"1\" class=\"dataframe\">\n",
       "  <thead>\n",
       "    <tr style=\"text-align: right;\">\n",
       "      <th></th>\n",
       "      <th>Personal_loan</th>\n",
       "      <th>Make</th>\n",
       "    </tr>\n",
       "  </thead>\n",
       "  <tbody>\n",
       "    <tr>\n",
       "      <th>0</th>\n",
       "      <td>No</td>\n",
       "      <td>SUV</td>\n",
       "    </tr>\n",
       "    <tr>\n",
       "      <th>1</th>\n",
       "      <td>Yes</td>\n",
       "      <td>SUV</td>\n",
       "    </tr>\n",
       "    <tr>\n",
       "      <th>2</th>\n",
       "      <td>No</td>\n",
       "      <td>SUV</td>\n",
       "    </tr>\n",
       "    <tr>\n",
       "      <th>3</th>\n",
       "      <td>Yes</td>\n",
       "      <td>SUV</td>\n",
       "    </tr>\n",
       "    <tr>\n",
       "      <th>4</th>\n",
       "      <td>No</td>\n",
       "      <td>SUV</td>\n",
       "    </tr>\n",
       "    <tr>\n",
       "      <th>...</th>\n",
       "      <td>...</td>\n",
       "      <td>...</td>\n",
       "    </tr>\n",
       "    <tr>\n",
       "      <th>1576</th>\n",
       "      <td>No</td>\n",
       "      <td>Hatchback</td>\n",
       "    </tr>\n",
       "    <tr>\n",
       "      <th>1577</th>\n",
       "      <td>No</td>\n",
       "      <td>Hatchback</td>\n",
       "    </tr>\n",
       "    <tr>\n",
       "      <th>1578</th>\n",
       "      <td>No</td>\n",
       "      <td>Hatchback</td>\n",
       "    </tr>\n",
       "    <tr>\n",
       "      <th>1579</th>\n",
       "      <td>Yes</td>\n",
       "      <td>Hatchback</td>\n",
       "    </tr>\n",
       "    <tr>\n",
       "      <th>1580</th>\n",
       "      <td>No</td>\n",
       "      <td>Hatchback</td>\n",
       "    </tr>\n",
       "  </tbody>\n",
       "</table>\n",
       "<p>1581 rows × 2 columns</p>\n",
       "</div>"
      ],
      "text/plain": [
       "     Personal_loan       Make\n",
       "0               No        SUV\n",
       "1              Yes        SUV\n",
       "2               No        SUV\n",
       "3              Yes        SUV\n",
       "4               No        SUV\n",
       "...            ...        ...\n",
       "1576            No  Hatchback\n",
       "1577            No  Hatchback\n",
       "1578            No  Hatchback\n",
       "1579           Yes  Hatchback\n",
       "1580            No  Hatchback\n",
       "\n",
       "[1581 rows x 2 columns]"
      ]
     },
     "execution_count": 91,
     "metadata": {},
     "output_type": "execute_result"
    }
   ],
   "source": [
    "pl"
   ]
  },
  {
   "cell_type": "code",
   "execution_count": 96,
   "id": "8f2b0f8e",
   "metadata": {},
   "outputs": [
    {
     "data": {
      "text/plain": [
       "Personal_loan  Make     \n",
       "No             Hatchback    291\n",
       "               SUV          181\n",
       "               Sedan        317\n",
       "Yes            Hatchback    291\n",
       "               SUV          116\n",
       "               Sedan        385\n",
       "Name: Make, dtype: int64"
      ]
     },
     "execution_count": 96,
     "metadata": {},
     "output_type": "execute_result"
    }
   ],
   "source": [
    "pl.groupby([\"Personal_loan\",\"Make\"])[\"Make\"].count()"
   ]
  },
  {
   "cell_type": "code",
   "execution_count": 97,
   "id": "da6f4ef9",
   "metadata": {},
   "outputs": [],
   "source": [
    "plyes=pl.where(pl[\"Personal_loan\"]==\"Yes\").dropna()"
   ]
  },
  {
   "cell_type": "code",
   "execution_count": 98,
   "id": "ee763550",
   "metadata": {},
   "outputs": [],
   "source": [
    "plno=pl.where(pl[\"Personal_loan\"]==\"No\").dropna()"
   ]
  },
  {
   "cell_type": "code",
   "execution_count": 101,
   "id": "0f1c7942",
   "metadata": {},
   "outputs": [],
   "source": [
    "pl2=plyes.groupby(\"Make\")[\"Personal_loan\"].count()"
   ]
  },
  {
   "cell_type": "code",
   "execution_count": 106,
   "id": "89a5ad72",
   "metadata": {},
   "outputs": [],
   "source": [
    "pl3=plno.groupby(\"Make\")[\"Personal_loan\"].count()"
   ]
  },
  {
   "cell_type": "code",
   "execution_count": 103,
   "id": "ae6ab6ea",
   "metadata": {},
   "outputs": [],
   "source": [
    "df3=pd.DataFrame({\"Personal_loan\":pl2})"
   ]
  },
  {
   "cell_type": "code",
   "execution_count": 107,
   "id": "e0d388eb",
   "metadata": {},
   "outputs": [],
   "source": [
    "df4=pd.DataFrame({\"Personal_loan\":pl3})"
   ]
  },
  {
   "cell_type": "code",
   "execution_count": 104,
   "id": "d8acd767",
   "metadata": {},
   "outputs": [
    {
     "data": {
      "text/html": [
       "<div>\n",
       "<style scoped>\n",
       "    .dataframe tbody tr th:only-of-type {\n",
       "        vertical-align: middle;\n",
       "    }\n",
       "\n",
       "    .dataframe tbody tr th {\n",
       "        vertical-align: top;\n",
       "    }\n",
       "\n",
       "    .dataframe thead th {\n",
       "        text-align: right;\n",
       "    }\n",
       "</style>\n",
       "<table border=\"1\" class=\"dataframe\">\n",
       "  <thead>\n",
       "    <tr style=\"text-align: right;\">\n",
       "      <th></th>\n",
       "      <th>Personal_loan</th>\n",
       "    </tr>\n",
       "    <tr>\n",
       "      <th>Make</th>\n",
       "      <th></th>\n",
       "    </tr>\n",
       "  </thead>\n",
       "  <tbody>\n",
       "    <tr>\n",
       "      <th>Hatchback</th>\n",
       "      <td>291</td>\n",
       "    </tr>\n",
       "    <tr>\n",
       "      <th>SUV</th>\n",
       "      <td>116</td>\n",
       "    </tr>\n",
       "    <tr>\n",
       "      <th>Sedan</th>\n",
       "      <td>385</td>\n",
       "    </tr>\n",
       "  </tbody>\n",
       "</table>\n",
       "</div>"
      ],
      "text/plain": [
       "           Personal_loan\n",
       "Make                    \n",
       "Hatchback            291\n",
       "SUV                  116\n",
       "Sedan                385"
      ]
     },
     "execution_count": 104,
     "metadata": {},
     "output_type": "execute_result"
    }
   ],
   "source": [
    "df3"
   ]
  },
  {
   "cell_type": "code",
   "execution_count": 108,
   "id": "3c8464bd",
   "metadata": {},
   "outputs": [
    {
     "data": {
      "text/html": [
       "<div>\n",
       "<style scoped>\n",
       "    .dataframe tbody tr th:only-of-type {\n",
       "        vertical-align: middle;\n",
       "    }\n",
       "\n",
       "    .dataframe tbody tr th {\n",
       "        vertical-align: top;\n",
       "    }\n",
       "\n",
       "    .dataframe thead th {\n",
       "        text-align: right;\n",
       "    }\n",
       "</style>\n",
       "<table border=\"1\" class=\"dataframe\">\n",
       "  <thead>\n",
       "    <tr style=\"text-align: right;\">\n",
       "      <th></th>\n",
       "      <th>Personal_loan</th>\n",
       "    </tr>\n",
       "    <tr>\n",
       "      <th>Make</th>\n",
       "      <th></th>\n",
       "    </tr>\n",
       "  </thead>\n",
       "  <tbody>\n",
       "    <tr>\n",
       "      <th>Hatchback</th>\n",
       "      <td>291</td>\n",
       "    </tr>\n",
       "    <tr>\n",
       "      <th>SUV</th>\n",
       "      <td>181</td>\n",
       "    </tr>\n",
       "    <tr>\n",
       "      <th>Sedan</th>\n",
       "      <td>317</td>\n",
       "    </tr>\n",
       "  </tbody>\n",
       "</table>\n",
       "</div>"
      ],
      "text/plain": [
       "           Personal_loan\n",
       "Make                    \n",
       "Hatchback            291\n",
       "SUV                  181\n",
       "Sedan                317"
      ]
     },
     "execution_count": 108,
     "metadata": {},
     "output_type": "execute_result"
    }
   ],
   "source": [
    "df4"
   ]
  },
  {
   "cell_type": "code",
   "execution_count": 105,
   "id": "4bd65337",
   "metadata": {},
   "outputs": [
    {
     "data": {
      "text/plain": [
       "<Axes: xlabel='Make'>"
      ]
     },
     "execution_count": 105,
     "metadata": {},
     "output_type": "execute_result"
    },
    {
     "data": {
      "image/png": "[encoded data removed]",
      "text/plain": [
       "<Figure size 640x480 with 1 Axes>"
      ]
     },
     "metadata": {},
     "output_type": "display_data"
    }
   ],
   "source": [
    "df3.plot.bar()"
   ]
  },
  {
   "cell_type": "code",
   "execution_count": 109,
   "id": "5d23d1e2",
   "metadata": {},
   "outputs": [
    {
     "data": {
      "text/plain": [
       "<Axes: xlabel='Make'>"
      ]
     },
     "execution_count": 109,
     "metadata": {},
     "output_type": "execute_result"
    },
    {
     "data": {
      "image/png": "[encoded data removed]",
      "text/plain": [
       "<Figure size 640x480 with 1 Axes>"
      ]
     },
     "metadata": {},
     "output_type": "display_data"
    }
   ],
   "source": [
    "df4.plot.bar()"
   ]
  }
 ],
 "metadata": {
  "kernelspec": {
   "display_name": "Python 3 (ipykernel)",
   "language": "python",
   "name": "python3"
  },
  "language_info": {
   "codemirror_mode": {
    "name": "ipython",
    "version": 3
   },
   "file_extension": ".py",
   "mimetype": "text/x-python",
   "name": "python",
   "nbconvert_exporter": "python",
   "pygments_lexer": "ipython3",
   "version": "3.11.5"
  }
 },
 "nbformat": 4,
 "nbformat_minor": 5
}
